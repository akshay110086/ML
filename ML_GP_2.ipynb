{
 "cells": [
  {
   "cell_type": "markdown",
   "id": "4d7d19d7",
   "metadata": {},
   "source": [
    "## Perform elementary logical operations in Octave/MATLAB/R (like OR, AND, Checking for Equality, NOT, XOR). "
   ]
  },
  {
   "cell_type": "code",
   "execution_count": 1,
   "id": "621f7c2b",
   "metadata": {},
   "outputs": [
    {
     "name": "stdout",
     "output_type": "stream",
     "text": [
      "False\n",
      "True\n",
      "False\n",
      "False\n",
      "True\n"
     ]
    }
   ],
   "source": [
    "a = True\n",
    "b = False\n",
    "\n",
    "# Logical AND\n",
    "c = a and b\n",
    "print(c)\n",
    "\n",
    "# Logical OR\n",
    "d = a or b\n",
    "print(d)\n",
    "\n",
    "# Checking for Equality\n",
    "e = (a == b)\n",
    "print(e)\n",
    "\n",
    "# Logical NOT\n",
    "f = not a\n",
    "print(f)\n",
    "\n",
    "# XOR\n",
    "g = a ^ b\n",
    "print(g)"
   ]
  },
  {
   "cell_type": "code",
   "execution_count": null,
   "id": "f09c7139",
   "metadata": {},
   "outputs": [],
   "source": []
  }
 ],
 "metadata": {
  "kernelspec": {
   "display_name": "Python 3 (ipykernel)",
   "language": "python",
   "name": "python3"
  },
  "language_info": {
   "codemirror_mode": {
    "name": "ipython",
    "version": 3
   },
   "file_extension": ".py",
   "mimetype": "text/x-python",
   "name": "python",
   "nbconvert_exporter": "python",
   "pygments_lexer": "ipython3",
   "version": "3.9.12"
  }
 },
 "nbformat": 4,
 "nbformat_minor": 5
}
