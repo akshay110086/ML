{
 "cells": [
  {
   "cell_type": "markdown",
   "id": "e994d25f",
   "metadata": {},
   "source": [
    "## Perform other matrix operations like converting matrix data to absolute values, taking the negative of matrix values, additing/removing rows/columns from a matrix, finding the maximum or minimum values in a matrix or in a row/column, and finding the sum of some/all elements in a matrix. "
   ]
  },
  {
   "cell_type": "code",
   "execution_count": 1,
   "id": "c54baa4d",
   "metadata": {},
   "outputs": [
    {
     "name": "stdout",
     "output_type": "stream",
     "text": [
      "[[1 2 3]\n",
      " [4 5 6]\n",
      " [7 8 9]]\n",
      "[[-1  2 -3]\n",
      " [ 4 -5  6]\n",
      " [-7  8 -9]]\n",
      "[[  1  -2   3]\n",
      " [ -4   5  -6]\n",
      " [  7  -8   9]\n",
      " [ 10 -11  12]]\n",
      "[[ 1 -2  3]\n",
      " [ 7 -8  9]]\n",
      "9\n",
      "-8\n",
      "5\n",
      "[ 2 -5  8]\n",
      "[ 4 -5  6]\n"
     ]
    }
   ],
   "source": [
    "import numpy as np\n",
    "\n",
    "# Create a matrix\n",
    "m1 = np.array([[1, -2, 3], [-4, 5, -6], [7, -8, 9]])\n",
    "\n",
    "# Convert matrix data to absolute values\n",
    "m2 = np.abs(m1)\n",
    "print(m2)\n",
    "\n",
    "# Take the negative of matrix values\n",
    "m3 = -m1\n",
    "print(m3)\n",
    "\n",
    "# Add a row to the matrix\n",
    "m4 = np.vstack([m1, [10, -11, 12]])\n",
    "print(m4)\n",
    "\n",
    "# Remove a row from the matrix\n",
    "m5 = np.delete(m1, 1, axis=0)\n",
    "print(m5)\n",
    "\n",
    "# Find the maximum value in the matrix\n",
    "max_val = np.max(m1)\n",
    "print(max_val)\n",
    "\n",
    "# Find the minimum value in the matrix\n",
    "min_val = np.min(m1)\n",
    "print(min_val)\n",
    "\n",
    "# Find the sum of all elements in the matrix\n",
    "sum_all = np.sum(m1)\n",
    "print(sum_all)\n",
    "\n",
    "# Find the sum of elements in a row/column\n",
    "sum_row = np.sum(m1, axis=1)\n",
    "sum_col = np.sum(m1, axis=0)\n",
    "print(sum_row)\n",
    "print(sum_col)"
   ]
  },
  {
   "cell_type": "code",
   "execution_count": null,
   "id": "806359af",
   "metadata": {},
   "outputs": [],
   "source": []
  }
 ],
 "metadata": {
  "kernelspec": {
   "display_name": "Python 3 (ipykernel)",
   "language": "python",
   "name": "python3"
  },
  "language_info": {
   "codemirror_mode": {
    "name": "ipython",
    "version": 3
   },
   "file_extension": ".py",
   "mimetype": "text/x-python",
   "name": "python",
   "nbconvert_exporter": "python",
   "pygments_lexer": "ipython3",
   "version": "3.9.12"
  }
 },
 "nbformat": 4,
 "nbformat_minor": 5
}
