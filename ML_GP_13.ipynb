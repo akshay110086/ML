{
  "nbformat": 4,
  "nbformat_minor": 0,
  "metadata": {
    "colab": {
      "provenance": []
    },
    "kernelspec": {
      "name": "python3",
      "display_name": "Python 3"
    },
    "language_info": {
      "name": "python"
    }
  },
  "cells": [
    {
      "cell_type": "markdown",
      "source": [
        "## Based on multiple features/variables perform Linear Regression. For example, based on a number of additional features like number of bedrooms, servant room, number of balconies, number of houses of years a house has been built – predict the price of a house. "
      ],
      "metadata": {
        "id": "WUHPfIyKiKJG"
      }
    },
    {
      "cell_type": "code",
      "execution_count": 1,
      "metadata": {
        "id": "A_Nowt_wgZFl",
        "colab": {
          "base_uri": "https://localhost:8080/"
        },
        "outputId": "49274033-e13a-4a74-d9a4-cb85f6ba0292"
      },
      "outputs": [
        {
          "output_type": "stream",
          "name": "stdout",
          "text": [
            "Predicted price: [55060.23756714] , Actual price: [50000]\n"
          ]
        }
      ],
      "source": [
        "import pandas as pd\n",
        "import numpy as np\n",
        "from sklearn.linear_model import LinearRegression\n",
        "\n",
        "# Load the dataset\n",
        "data = pd.read_csv('house_prices_13.csv')\n",
        "\n",
        "# Split the dataset into training and testing sets\n",
        "train_data = data.sample(frac=0.8, random_state=1)\n",
        "test_data = data.drop(train_data.index)\n",
        "\n",
        "# Prepare the data\n",
        "train_x = train_data[['area', 'bedrooms', 'servant_room', 'balconies', 'age']].values\n",
        "train_y = train_data['price'].values.reshape(-1, 1)\n",
        "test_x = test_data[['area', 'bedrooms', 'servant_room', 'balconies', 'age']].values\n",
        "test_y = test_data['price'].values.reshape(-1, 1)\n",
        "\n",
        "# Train the model\n",
        "model = LinearRegression()\n",
        "model.fit(train_x, train_y)\n",
        "\n",
        "# Predict the prices of the test set\n",
        "predicted_y = model.predict(test_x)\n",
        "\n",
        "# Print the predicted prices and the actual prices\n",
        "for i in range(len(predicted_y)):\n",
        "    print('Predicted price:', predicted_y[i], ', Actual price:', test_y[i])"
      ]
    },
    {
      "cell_type": "code",
      "source": [],
      "metadata": {
        "id": "6nni_LejmnG7"
      },
      "execution_count": null,
      "outputs": []
    }
  ]
}