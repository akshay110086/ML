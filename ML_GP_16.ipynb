{
  "nbformat": 4,
  "nbformat_minor": 0,
  "metadata": {
    "colab": {
      "provenance": []
    },
    "kernelspec": {
      "name": "python3",
      "display_name": "Python 3"
    },
    "language_info": {
      "name": "python"
    }
  },
  "cells": [
    {
      "cell_type": "code",
      "execution_count": 2,
      "metadata": {
        "colab": {
          "base_uri": "https://localhost:8080/"
        },
        "id": "QPFlikfd-iTE",
        "outputId": "83f2fb01-4de5-4d5f-c935-44ae547b3952"
      },
      "outputs": [
        {
          "output_type": "stream",
          "name": "stderr",
          "text": [
            "/usr/local/lib/python3.10/dist-packages/sklearn/neural_network/_multilayer_perceptron.py:1098: DataConversionWarning: A column-vector y was passed when a 1d array was expected. Please change the shape of y to (n_samples, ), for example using ravel().\n",
            "  y = column_or_1d(y, warn=True)\n"
          ]
        },
        {
          "output_type": "stream",
          "name": "stdout",
          "text": [
            "Train Data\n",
            "[[358   0]\n",
            " [179   0]]\n",
            "              precision    recall  f1-score   support\n",
            "\n",
            "           0       0.67      1.00      0.80       358\n",
            "           1       0.00      0.00      0.00       179\n",
            "\n",
            "    accuracy                           0.67       537\n",
            "   macro avg       0.33      0.50      0.40       537\n",
            "weighted avg       0.44      0.67      0.53       537\n",
            "\n",
            "Test\n",
            "[[142   0]\n",
            " [ 89   0]]\n",
            "              precision    recall  f1-score   support\n",
            "\n",
            "           0       0.61      1.00      0.76       142\n",
            "           1       0.00      0.00      0.00        89\n",
            "\n",
            "    accuracy                           0.61       231\n",
            "   macro avg       0.31      0.50      0.38       231\n",
            "weighted avg       0.38      0.61      0.47       231\n",
            "\n"
          ]
        },
        {
          "output_type": "stream",
          "name": "stderr",
          "text": [
            "/usr/local/lib/python3.10/dist-packages/sklearn/metrics/_classification.py:1344: UndefinedMetricWarning: Precision and F-score are ill-defined and being set to 0.0 in labels with no predicted samples. Use `zero_division` parameter to control this behavior.\n",
            "  _warn_prf(average, modifier, msg_start, len(result))\n",
            "/usr/local/lib/python3.10/dist-packages/sklearn/metrics/_classification.py:1344: UndefinedMetricWarning: Precision and F-score are ill-defined and being set to 0.0 in labels with no predicted samples. Use `zero_division` parameter to control this behavior.\n",
            "  _warn_prf(average, modifier, msg_start, len(result))\n",
            "/usr/local/lib/python3.10/dist-packages/sklearn/metrics/_classification.py:1344: UndefinedMetricWarning: Precision and F-score are ill-defined and being set to 0.0 in labels with no predicted samples. Use `zero_division` parameter to control this behavior.\n",
            "  _warn_prf(average, modifier, msg_start, len(result))\n",
            "/usr/local/lib/python3.10/dist-packages/sklearn/metrics/_classification.py:1344: UndefinedMetricWarning: Precision and F-score are ill-defined and being set to 0.0 in labels with no predicted samples. Use `zero_division` parameter to control this behavior.\n",
            "  _warn_prf(average, modifier, msg_start, len(result))\n",
            "/usr/local/lib/python3.10/dist-packages/sklearn/metrics/_classification.py:1344: UndefinedMetricWarning: Precision and F-score are ill-defined and being set to 0.0 in labels with no predicted samples. Use `zero_division` parameter to control this behavior.\n",
            "  _warn_prf(average, modifier, msg_start, len(result))\n",
            "/usr/local/lib/python3.10/dist-packages/sklearn/metrics/_classification.py:1344: UndefinedMetricWarning: Precision and F-score are ill-defined and being set to 0.0 in labels with no predicted samples. Use `zero_division` parameter to control this behavior.\n",
            "  _warn_prf(average, modifier, msg_start, len(result))\n"
          ]
        }
      ],
      "source": [
        "from numpy import *\n",
        "import pandas as pd\n",
        "from sklearn.neural_network import MLPClassifier\n",
        "from sklearn.model_selection import train_test_split\n",
        "\n",
        "import io\n",
        "df=pd.read_csv('diabetes.csv')\n",
        "\n",
        "target_column=['Outcome']\n",
        "predictors=list(set(list(df.columns))-set(target_column))\n",
        "df[predictors]=df[predictors]/df[predictors].max()\n",
        "\n",
        "X=df[predictors].values\n",
        "y=df[target_column].values\n",
        "\n",
        "X_train, X_test, y_train, y_test = train_test_split(X, y, test_size=0.3, random_state=40)\n",
        "\n",
        "mlp=MLPClassifier(hidden_layer_sizes=(8,8), activation='relu', solver='sgd',max_iter=500)\n",
        "\n",
        "mlp.fit(X_train, y_train)\n",
        "predict_train=mlp.predict(X_train)\n",
        "predict_test=mlp.predict(X_test)\n",
        "\n",
        "from sklearn.metrics import classification_report, confusion_matrix\n",
        "\n",
        "print('Train Data')\n",
        "print(confusion_matrix(y_train, predict_train))\n",
        "print(classification_report(y_train, predict_train))\n",
        "\n",
        "print('Test')\n",
        "print(confusion_matrix(y_test, predict_test))\n",
        "print(classification_report(y_test, predict_test))\n",
        "\n"
      ]
    },
    {
      "cell_type": "code",
      "source": [],
      "metadata": {
        "id": "JDGjdjdrA3F6"
      },
      "execution_count": null,
      "outputs": []
    }
  ]
}