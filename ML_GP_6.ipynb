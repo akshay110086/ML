{
 "cells": [
  {
   "cell_type": "markdown",
   "id": "bd3dd27c",
   "metadata": {},
   "source": [
    "## Perform basic operations on matrices (like addition, subtraction, multiplication) and display specific rows or columns of the matrix. "
   ]
  },
  {
   "cell_type": "code",
   "execution_count": 1,
   "id": "1ebe9a84",
   "metadata": {},
   "outputs": [
    {
     "name": "stdout",
     "output_type": "stream",
     "text": [
      "[[10 10 10]\n",
      " [10 10 10]\n",
      " [10 10 10]]\n",
      "[[-8 -6 -4]\n",
      " [-2  0  2]\n",
      " [ 4  6  8]]\n",
      "[[ 30  24  18]\n",
      " [ 84  69  54]\n",
      " [138 114  90]]\n",
      "[1 2 3]\n",
      "[2 5 8]\n"
     ]
    }
   ],
   "source": [
    "import numpy as np\n",
    "\n",
    "# Create matrices\n",
    "m1 = np.array([[1, 2, 3], [4, 5, 6], [7, 8, 9]])\n",
    "m2 = np.array([[9, 8, 7], [6, 5, 4], [3, 2, 1]])\n",
    "\n",
    "# Matrix addition\n",
    "m3 = m1 + m2\n",
    "print(m3)\n",
    "\n",
    "# Matrix subtraction\n",
    "m4 = m1 - m2\n",
    "print(m4)\n",
    "\n",
    "# Matrix multiplication\n",
    "m5 = np.dot(m1, m2)\n",
    "print(m5)\n",
    "\n",
    "# Display specific rows or columns of the matrix\n",
    "print(m1[0, :])\n",
    "print(m1[:, 1])"
   ]
  },
  {
   "cell_type": "code",
   "execution_count": null,
   "id": "5e3ed22f",
   "metadata": {},
   "outputs": [],
   "source": []
  }
 ],
 "metadata": {
  "kernelspec": {
   "display_name": "Python 3 (ipykernel)",
   "language": "python",
   "name": "python3"
  },
  "language_info": {
   "codemirror_mode": {
    "name": "ipython",
    "version": 3
   },
   "file_extension": ".py",
   "mimetype": "text/x-python",
   "name": "python",
   "nbconvert_exporter": "python",
   "pygments_lexer": "ipython3",
   "version": "3.9.12"
  }
 },
 "nbformat": 4,
 "nbformat_minor": 5
}
