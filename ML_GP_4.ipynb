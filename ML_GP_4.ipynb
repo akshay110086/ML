{
 "cells": [
  {
   "cell_type": "markdown",
   "id": "df730f5c",
   "metadata": {},
   "source": [
    "## Create/Define single dimension / multi-dimension arrays, and arrays with specific values like array of all ones, all zeros, array with random values within a range, or a diagonal matrix. "
   ]
  },
  {
   "cell_type": "code",
   "execution_count": 1,
   "id": "2079a80a",
   "metadata": {},
   "outputs": [
    {
     "name": "stdout",
     "output_type": "stream",
     "text": [
      "[1 2 3 4 5]\n",
      "[[1 2 3]\n",
      " [4 5 6]\n",
      " [7 8 9]]\n",
      "[[1. 1. 1. 1.]\n",
      " [1. 1. 1. 1.]\n",
      " [1. 1. 1. 1.]]\n",
      "[[0. 0. 0.]\n",
      " [0. 0. 0.]]\n",
      "[[6 8 6]\n",
      " [6 2 5]]\n",
      "[[1 0 0]\n",
      " [0 2 0]\n",
      " [0 0 3]]\n"
     ]
    }
   ],
   "source": [
    "import numpy as np\n",
    "\n",
    "# Create a single dimension array\n",
    "arr1 = np.array([1, 2, 3, 4, 5])\n",
    "print(arr1)\n",
    "\n",
    "# Create a multi-dimension array\n",
    "arr2 = np.array([[1, 2, 3], [4, 5, 6], [7, 8, 9]])\n",
    "print(arr2)\n",
    "\n",
    "# Create an array of all ones\n",
    "arr3 = np.ones((3, 4))\n",
    "print(arr3)\n",
    "\n",
    "# Create an array of all zeros\n",
    "arr4 = np.zeros((2, 3))\n",
    "print(arr4)\n",
    "\n",
    "# Create an array with random values within a range\n",
    "arr5 = np.random.randint(0, 10, (2, 3))\n",
    "print(arr5)\n",
    "\n",
    "# Create a diagonal matrix\n",
    "arr6 = np.diag([1, 2, 3])\n",
    "print(arr6)"
   ]
  },
  {
   "cell_type": "code",
   "execution_count": null,
   "id": "3271f932",
   "metadata": {},
   "outputs": [],
   "source": []
  }
 ],
 "metadata": {
  "kernelspec": {
   "display_name": "Python 3 (ipykernel)",
   "language": "python",
   "name": "python3"
  },
  "language_info": {
   "codemirror_mode": {
    "name": "ipython",
    "version": 3
   },
   "file_extension": ".py",
   "mimetype": "text/x-python",
   "name": "python",
   "nbconvert_exporter": "python",
   "pygments_lexer": "ipython3",
   "version": "3.9.12"
  }
 },
 "nbformat": 4,
 "nbformat_minor": 5
}
