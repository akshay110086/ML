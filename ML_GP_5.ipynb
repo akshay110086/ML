{
 "cells": [
  {
   "cell_type": "markdown",
   "id": "2f752d2d",
   "metadata": {},
   "source": [
    "## Use command to compute the size of a matrix, size/length of a particular row/column, load data from a text file, store matrix data to a text file, finding out variables and their features in the current scope."
   ]
  },
  {
   "cell_type": "code",
   "execution_count": 5,
   "id": "f726a624",
   "metadata": {},
   "outputs": [
    {
     "name": "stdout",
     "output_type": "stream",
     "text": [
      "9\n",
      "(3, 3)\n",
      "3\n",
      "[[1. 2. 3.]\n",
      " [4. 5. 6.]\n",
      " [7. 8. 9.]]\n",
      "['In', 'Out', '_', '__', '___', '__builtin__', '__builtins__', '__doc__', '__loader__', '__name__', '__package__', '__spec__', '_dh', '_i', '_i1', '_i2', '_i3', '_i4', '_i5', '_ih', '_ii', '_iii', '_oh', 'data', 'exit', 'get_ipython', 'm1', 'np', 'quit', 'size', 'size_col', 'size_row', 'var_list']\n"
     ]
    }
   ],
   "source": [
    "import numpy as np\n",
    "\n",
    "# Create a matrix\n",
    "m1 = np.array([[1, 2, 3], [4, 5, 6], [7, 8, 9]])\n",
    "\n",
    "# Compute the size of the matrix\n",
    "size = m1.size\n",
    "print(size)\n",
    "\n",
    "# Compute the size of a particular row/column\n",
    "size_row = m1.shape\n",
    "size_col = m1.shape[1]\n",
    "print(size_row)\n",
    "print(size_col)\n",
    "\n",
    "# Load data from a text file\n",
    "data = np.loadtxt(\"data.txt\")\n",
    "print(data)\n",
    "\n",
    "# Store matrix data to a text file\n",
    "np.savetxt(\"data.txt\", m1)\n",
    "\n",
    "# Finding out variables and their features in the current scope\n",
    "var_list = dir()\n",
    "print(var_list)"
   ]
  },
  {
   "cell_type": "code",
   "execution_count": null,
   "id": "61e797e0",
   "metadata": {},
   "outputs": [],
   "source": []
  }
 ],
 "metadata": {
  "kernelspec": {
   "display_name": "Python 3 (ipykernel)",
   "language": "python",
   "name": "python3"
  },
  "language_info": {
   "codemirror_mode": {
    "name": "ipython",
    "version": 3
   },
   "file_extension": ".py",
   "mimetype": "text/x-python",
   "name": "python",
   "nbconvert_exporter": "python",
   "pygments_lexer": "ipython3",
   "version": "3.9.12"
  }
 },
 "nbformat": 4,
 "nbformat_minor": 5
}
