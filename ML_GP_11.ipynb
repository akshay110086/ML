{
 "cells": [
  {
   "cell_type": "markdown",
   "id": "839a7b34",
   "metadata": {},
   "source": [
    "## Perform vectorized implementation of simple matrix operation like finding the transpose of a matrix, adding, subtracting or multiplying two matrices. "
   ]
  },
  {
   "cell_type": "code",
   "execution_count": 1,
   "id": "56735c93",
   "metadata": {},
   "outputs": [
    {
     "name": "stdout",
     "output_type": "stream",
     "text": [
      "[[1 4 7]\n",
      " [2 5 8]\n",
      " [3 6 9]]\n",
      "[[10 10 10]\n",
      " [10 10 10]\n",
      " [10 10 10]]\n",
      "[[-8 -6 -4]\n",
      " [-2  0  2]\n",
      " [ 4  6  8]]\n",
      "[[ 30  24  18]\n",
      " [ 84  69  54]\n",
      " [138 114  90]]\n"
     ]
    }
   ],
   "source": [
    "import numpy as np\n",
    "\n",
    "# Create matrices\n",
    "m1 = np.array([[1, 2, 3], [4, 5, 6], [7, 8, 9]])\n",
    "m2 = np.array([[9, 8, 7], [6, 5, 4], [3, 2, 1]])\n",
    "\n",
    "# Find the transpose of a matrix\n",
    "m3 = np.transpose(m1)\n",
    "print(m3)\n",
    "\n",
    "# Add two matrices\n",
    "m4 = m1 + m2\n",
    "print(m4)\n",
    "\n",
    "# Subtract two matrices\n",
    "m5 = m1 - m2\n",
    "print(m5)\n",
    "\n",
    "# Multiply two matrices\n",
    "m6 = np.dot(m1, m2)\n",
    "print(m6)"
   ]
  },
  {
   "cell_type": "code",
   "execution_count": null,
   "id": "8ae79bef",
   "metadata": {},
   "outputs": [],
   "source": []
  }
 ],
 "metadata": {
  "kernelspec": {
   "display_name": "Python 3 (ipykernel)",
   "language": "python",
   "name": "python3"
  },
  "language_info": {
   "codemirror_mode": {
    "name": "ipython",
    "version": 3
   },
   "file_extension": ".py",
   "mimetype": "text/x-python",
   "name": "python",
   "nbconvert_exporter": "python",
   "pygments_lexer": "ipython3",
   "version": "3.9.12"
  }
 },
 "nbformat": 4,
 "nbformat_minor": 5
}
