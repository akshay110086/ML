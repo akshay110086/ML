{
 "cells": [
  {
   "cell_type": "markdown",
   "id": "c72118b9",
   "metadata": {},
   "source": [
    "## Create, initialize and display simple variables and simple strings and use simple formatting for variable."
   ]
  },
  {
   "cell_type": "code",
   "execution_count": 1,
   "id": "0336eba0",
   "metadata": {},
   "outputs": [
    {
     "name": "stdout",
     "output_type": "stream",
     "text": [
      "My name is Alice, I'm 25 years old, and I'm 1.65 meters tall.\n",
      "Hello, world!\n",
      "Python is awesome\n"
     ]
    }
   ],
   "source": [
    "name = \"Alice\"\n",
    "age = 25\n",
    "height = 1.65\n",
    "\n",
    "# Display variables using simple formatting\n",
    "print(\"My name is {}, I'm {} years old, and I'm {} meters tall.\".format(name, age, height))\n",
    "\n",
    "# Create and display simple strings\n",
    "str1 = \"Hello, world!\"\n",
    "str2 = 'Python is awesome'\n",
    "print(str1)\n",
    "print(str2)"
   ]
  },
  {
   "cell_type": "code",
   "execution_count": null,
   "id": "1bc365bf",
   "metadata": {},
   "outputs": [],
   "source": []
  }
 ],
 "metadata": {
  "kernelspec": {
   "display_name": "Python 3 (ipykernel)",
   "language": "python",
   "name": "python3"
  },
  "language_info": {
   "codemirror_mode": {
    "name": "ipython",
    "version": 3
   },
   "file_extension": ".py",
   "mimetype": "text/x-python",
   "name": "python",
   "nbconvert_exporter": "python",
   "pygments_lexer": "ipython3",
   "version": "3.9.12"
  }
 },
 "nbformat": 4,
 "nbformat_minor": 5
}
