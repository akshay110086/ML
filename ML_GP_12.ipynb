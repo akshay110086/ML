{
  "cells": [
    {
      "cell_type": "markdown",
      "id": "364ae8b4",
      "metadata": {
        "id": "364ae8b4"
      },
      "source": [
        "##  Implement Linear Regression problem. For example, based on a dataset comprising of existing set of prices and area/size of the houses, predict the estimated price of a given house. "
      ]
    },
    {
      "cell_type": "code",
      "execution_count": 2,
      "id": "b2767fa5",
      "metadata": {
        "colab": {
          "base_uri": "https://localhost:8080/"
        },
        "id": "b2767fa5",
        "outputId": "f6de0ba7-618b-458c-d1ec-ffd8655ab6a4"
      },
      "outputs": [
        {
          "name": "stdout",
          "output_type": "stream",
          "text": [
            "Predicted price: [94557.64075067] , Actual price: [120000]\n"
          ]
        }
      ],
      "source": [
        "import pandas as pd\n",
        "import numpy as np\n",
        "from sklearn.linear_model import LinearRegression\n",
        "\n",
        "# Load the dataset\n",
        "data = pd.read_csv('house_prices_12.csv')\n",
        "\n",
        "# Split the dataset into training and testing sets\n",
        "train_data = data.sample(frac=0.8, random_state=1)\n",
        "test_data = data.drop(train_data.index)\n",
        "\n",
        "# Prepare the data\n",
        "train_x = train_data['area'].values.reshape(-1, 1)\n",
        "train_y = train_data['price'].values.reshape(-1, 1)\n",
        "test_x = test_data['area'].values.reshape(-1, 1)\n",
        "test_y = test_data['price'].values.reshape(-1, 1)\n",
        "\n",
        "# Train the model\n",
        "model = LinearRegression()\n",
        "model.fit(train_x, train_y)\n",
        "\n",
        "# Predict the prices of the test set\n",
        "predicted_y = model.predict(test_x)\n",
        "\n",
        "# Print the predicted prices and the actual prices\n",
        "for i in range(len(predicted_y)):\n",
        "    print('Predicted price:', predicted_y[i], ', Actual price:', test_y[i])"
      ]
    }
  ],
  "metadata": {
    "colab": {
      "provenance": []
    },
    "kernelspec": {
      "display_name": "Python 3 (ipykernel)",
      "language": "python",
      "name": "python3"
    },
    "language_info": {
      "codemirror_mode": {
        "name": "ipython",
        "version": 3
      },
      "file_extension": ".py",
      "mimetype": "text/x-python",
      "name": "python",
      "nbconvert_exporter": "python",
      "pygments_lexer": "ipython3",
      "version": "3.9.12"
    }
  },
  "nbformat": 4,
  "nbformat_minor": 5
}
