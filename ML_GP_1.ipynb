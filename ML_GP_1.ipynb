{
 "cells": [
  {
   "cell_type": "markdown",
   "id": "1e20b0c9",
   "metadata": {},
   "source": [
    "## Perform elementary mathematical operations in Octave/MATLAB/R like addition, multiplication, division and exponentiation. "
   ]
  },
  {
   "cell_type": "code",
   "execution_count": 1,
   "id": "6a8be5e1",
   "metadata": {},
   "outputs": [
    {
     "name": "stdout",
     "output_type": "stream",
     "text": [
      "8\n",
      "15\n",
      "1.6666666666666667\n",
      "125\n",
      "1\n"
     ]
    }
   ],
   "source": [
    "# Addition\n",
    "a = 5\n",
    "b = 3\n",
    "c = a + b\n",
    "print(c)  # Output: 8\n",
    "\n",
    "# Multiplication\n",
    "a = 5\n",
    "b = 3\n",
    "c = a * b\n",
    "print(c)  # Output: 15\n",
    "\n",
    "# Division\n",
    "a = 5\n",
    "b = 3\n",
    "c = a / b\n",
    "print(c)  # Output: 1.6666666666666667\n",
    "\n",
    "# Exponentiation\n",
    "a = 5\n",
    "b = 3\n",
    "c = a ** b\n",
    "print(c)  # Output: 125\n",
    "\n",
    "# Integer division\n",
    "a = 5\n",
    "b = 3\n",
    "c = a // b\n",
    "print(c)  # Output: 1\n"
   ]
  },
  {
   "cell_type": "code",
   "execution_count": null,
   "id": "5e37c4c8",
   "metadata": {},
   "outputs": [],
   "source": []
  }
 ],
 "metadata": {
  "kernelspec": {
   "display_name": "Python 3 (ipykernel)",
   "language": "python",
   "name": "python3"
  },
  "language_info": {
   "codemirror_mode": {
    "name": "ipython",
    "version": 3
   },
   "file_extension": ".py",
   "mimetype": "text/x-python",
   "name": "python",
   "nbconvert_exporter": "python",
   "pygments_lexer": "ipython3",
   "version": "3.9.12"
  }
 },
 "nbformat": 4,
 "nbformat_minor": 5
}
