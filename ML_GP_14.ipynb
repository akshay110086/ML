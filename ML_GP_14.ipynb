{
  "nbformat": 4,
  "nbformat_minor": 0,
  "metadata": {
    "colab": {
      "provenance": []
    },
    "kernelspec": {
      "name": "python3",
      "display_name": "Python 3"
    },
    "language_info": {
      "name": "python"
    }
  },
  "cells": [
    {
      "cell_type": "markdown",
      "source": [
        "## Implement a classification/ logistic regression problem. For example based on different features of students data, classify, whether a student is suitable for a particular activity. Based on the available dataset, a student can also implement another classification problem like checking whether an email is spam or not. "
      ],
      "metadata": {
        "id": "lGbin7hfnFMu"
      }
    },
    {
      "cell_type": "code",
      "execution_count": 1,
      "metadata": {
        "colab": {
          "base_uri": "https://localhost:8080/",
          "height": 482
        },
        "id": "Yy7uppvTm-h6",
        "outputId": "48a7f8ce-f9f6-4df3-d2b9-07bac181f699"
      },
      "outputs": [
        {
          "output_type": "display_data",
          "data": {
            "text/plain": [
              "<Figure size 640x480 with 1 Axes>"
            ],
            "image/png": "[encoded data removed]"
          },
          "metadata": {}
        },
        {
          "output_type": "stream",
          "name": "stdout",
          "text": [
            "\n",
            "Prediction:  [1 0 0 1]\n",
            "Accuracy: 75.0\n"
          ]
        }
      ],
      "source": [
        "import pandas as pd\n",
        "import numpy as np\n",
        "import matplotlib.pyplot as plt\n",
        "from sklearn import linear_model\n",
        "from sklearn.model_selection import train_test_split\n",
        "from sklearn.linear_model import LogisticRegression\n",
        "\n",
        "df=pd.read_csv('insurance_data.csv')\n",
        "plt.scatter(df.age, df.bought_insurance, marker=\"+\", color=\"red\")\n",
        "plt.show()\n",
        "x_train, x_test, y_train, y_test = train_test_split(df[['age']],df.bought_insurance, test_size=0.2)\n",
        "model=LogisticRegression()\n",
        "model.fit(x_train, y_train)\n",
        "print(\"\\nPrediction: \", model.predict(x_test))\n",
        "print(\"Accuracy:\", model.score(x_test, y_test)*100)"
      ]
    },
    {
      "cell_type": "code",
      "source": [],
      "metadata": {
        "id": "gucV2Kow41WJ"
      },
      "execution_count": null,
      "outputs": []
    }
  ]
}